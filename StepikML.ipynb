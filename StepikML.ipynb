{
 "cells": [
  {
   "cell_type": "code",
   "execution_count": 24,
   "id": "d8cdc55f",
   "metadata": {},
   "outputs": [],
   "source": [
    "from datetime import datetime\n",
    "import numpy as np\n",
    "import pandas as pd\n",
    "from sklearn.model_selection import train_test_split\n",
    "from sklearn.model_selection import cross_val_score\n",
    "from sklearn.model_selection import GridSearchCV\n",
    "from sklearn.ensemble import RandomForestClassifier\n",
    "from sklearn.pipeline import make_pipeline\n",
    "from sklearn.metrics import roc_auc_score\n",
    "from sklearn.calibration import CalibratedClassifierCV"
   ]
  },
  {
   "cell_type": "code",
   "execution_count": 4,
   "id": "9d4c9297",
   "metadata": {},
   "outputs": [],
   "source": [
    "event_train = pd.read_csv('.\\StepikMLcontest/event_data_train.csv')\n",
    "submission_train = pd.read_csv('.\\StepikMLcontest/submissions_data_train.csv')\n",
    "event_test = pd.read_csv('.\\StepikMLcontest/events_data_test.csv')\n",
    "submission_test = pd.read_csv('.\\StepikMLcontest/submission_data_test.csv')"
   ]
  },
  {
   "cell_type": "code",
   "execution_count": null,
   "id": "25a4d1cf",
   "metadata": {},
   "outputs": [],
   "source": [
    "# Creating a dataset with basic features from two tables"
   ]
  },
  {
   "cell_type": "code",
   "execution_count": 9,
   "id": "240d56b0",
   "metadata": {},
   "outputs": [],
   "source": [
    "def base_feat(event_train, submission_train):\n",
    "    event_pivot = pd.pivot_table(data=event_train, values='step_id',\n",
    "                                 index='user_id', columns='action',\n",
    "                                 aggfunc='count', fill_value=0) \\\n",
    "        .reset_index()\n",
    "\n",
    "    submission_pivot = pd.pivot_table(data=submission_train,\n",
    "                                      values='step_id',\n",
    "                                      index='user_id',\n",
    "                                      columns='submission_status',\n",
    "                                      aggfunc='count',\n",
    "                                      fill_value=0).reset_index()\n",
    "\n",
    "    users_data = pd.merge(event_pivot, submission_pivot, on='user_id', how='outer').fillna(0)\n",
    "    assert users_data.user_id.nunique() == event_train.user_id.nunique()\n",
    "    return users_data"
   ]
  },
  {
   "cell_type": "code",
   "execution_count": 630,
   "id": "3dfa156a",
   "metadata": {},
   "outputs": [],
   "source": [
    "# creating a table with the first visit"
   ]
  },
  {
   "cell_type": "code",
   "execution_count": 10,
   "id": "11113351",
   "metadata": {},
   "outputs": [],
   "source": [
    "def time_fil(data, days=2):\n",
    "    min_user_time = data.groupby('user_id').agg({'timestamp': 'min'}) \\\n",
    "        .rename(columns={'timestamp': 'min_timestamp'}) \\\n",
    "        .reset_index()\n",
    "    data_time_filtered = pd.merge(data, min_user_time, on='user_id', how='outer')\n",
    "\n",
    "    # selecting threshold values\n",
    "    learning_time_threshold = days * 24 * 60 * 60\n",
    "    data_time_filtered = data_time_filtered.query(\"timestamp <= min_timestamp + @learning_time_threshold\")\n",
    "\n",
    "    assert data_time_filtered.user_id.nunique() == data.user_id.nunique()\n",
    "\n",
    "    return data_time_filtered.drop(['min_timestamp'], axis=1)"
   ]
  },
  {
   "cell_type": "code",
   "execution_count": 649,
   "id": "8044eca4",
   "metadata": {},
   "outputs": [],
   "source": [
    "# identification of target users by the threshold value, it is considered if the user \n",
    "# has made a 'threshold' tasks - he passed the course\n"
   ]
  },
  {
   "cell_type": "code",
   "execution_count": 11,
   "id": "3fad66e1",
   "metadata": {},
   "outputs": [],
   "source": [
    "def target(submission_data, threshold=40):\n",
    "    users_count_correct = submission_data[submission_data.submission_status == 'correct'] \\\n",
    "        .groupby('user_id').agg({'step_id': 'count'}) \\\n",
    "        .reset_index().rename(columns={'step_id': 'corrects'})\n",
    "\n",
    "    # if the user has executed the 'threshold' tasks, then he will complete the course to the end\n",
    "\n",
    "    users_count_correct['passed_course'] = (users_count_correct.corrects >= threshold).astype('int')\n",
    "    return users_count_correct.drop(['corrects'], axis=1)\n"
   ]
  },
  {
   "cell_type": "code",
   "execution_count": 12,
   "id": "4758f4ed",
   "metadata": {},
   "outputs": [],
   "source": [
    "# how many unique steps has the user tried"
   ]
  },
  {
   "cell_type": "code",
   "execution_count": 13,
   "id": "ad508c16",
   "metadata": {},
   "outputs": [],
   "source": [
    "def tried(submission_data):\n",
    "    # how many steps did the user try to make\n",
    "    tried = submission_data.groupby('user_id').step_id.nunique().to_frame().reset_index() \\\n",
    "        .rename(columns={'step_id': 'steps_tried'})\n",
    "\n",
    "    return tried"
   ]
  },
  {
   "cell_type": "code",
   "execution_count": 679,
   "id": "b71fe75b",
   "metadata": {},
   "outputs": [],
   "source": [
    "# auxiliary feature - The ratio of correct answers to incorrect ones"
   ]
  },
  {
   "cell_type": "code",
   "execution_count": 14,
   "id": "563fa987",
   "metadata": {},
   "outputs": [],
   "source": [
    "def answers_ratio(data):\n",
    "    data['correct_ratio'] = (data.correct / (data.correct + data.wrong)).fillna(0)\n",
    "\n",
    "    return data\n"
   ]
  },
  {
   "cell_type": "code",
   "execution_count": 677,
   "id": "0cc4da2b",
   "metadata": {},
   "outputs": [],
   "source": [
    "# Generating X and y datasets with target variables"
   ]
  },
  {
   "cell_type": "code",
   "execution_count": 15,
   "id": "89bd8841",
   "metadata": {},
   "outputs": [],
   "source": [
    "def create_df(events_data, submission_data):\n",
    "    # we filter the data by days from the beginning of the study\n",
    "    events_2d = time_fil(events_data)\n",
    "    submissions_2d = time_fil(submission_data)\n",
    "\n",
    "    # creating a table with basic features\n",
    "    users_data = base_feat(events_2d, submissions_2d)\n",
    "\n",
    "    # creating a target variable\n",
    "    users_target_feature = target(submission_data, threshold=40)\n",
    "\n",
    "    # we create features with attempts of steps and the proportion of correct answers\n",
    "    users_steps_tried = tried(submissions_2d)\n",
    "    users_data = answers_ratio(users_data)\n",
    "\n",
    "    # connecting\n",
    "    merge_1 = users_data.merge(users_steps_tried, how='outer').fillna(0)\n",
    "\n",
    "    # attaching the target variable\n",
    "    merge_2 = merge_1.merge(users_target_feature, how='outer').fillna(0)\n",
    "\n",
    "    # we separate the target variable and remove it from the main dataset\n",
    "    y = merge_2['passed_course'].map(int)\n",
    "    X = merge_2.drop(['passed_course'], axis=1)\n",
    "\n",
    "    return X, y"
   ]
  },
  {
   "cell_type": "code",
   "execution_count": 16,
   "id": "94c19cf3",
   "metadata": {},
   "outputs": [],
   "source": [
    "# Formation of a test dataset without a target"
   ]
  },
  {
   "cell_type": "code",
   "execution_count": 17,
   "id": "b0d7dde8",
   "metadata": {},
   "outputs": [],
   "source": [
    "def create_test_df(events_data, submission_data):\n",
    "    # we filter the data by days from the beginning of the study\n",
    "    events_2d = time_fil(events_data)\n",
    "    submissions_2d = time_fil(submission_data)\n",
    "\n",
    "    # creating a table with basic features\n",
    "    users_data = base_feat(events_2d, submissions_2d)\n",
    "\n",
    "    # we create features with attempts of steps and the proportion of correct answers\n",
    "    users_steps_tried = tried(submissions_2d)\n",
    "    users_data = answers_ratio(users_data)\n",
    "\n",
    "    # connecting\n",
    "    X = users_data.merge(users_steps_tried, how='outer').fillna(0)\n",
    "\n",
    "    return X\n"
   ]
  },
  {
   "cell_type": "code",
   "execution_count": 20,
   "id": "91014e8d",
   "metadata": {},
   "outputs": [],
   "source": [
    "X_train, y = create_df(event_train, submission_train)\n",
    "\n",
    "X_test = create_test_df(event_test, submission_test)"
   ]
  },
  {
   "cell_type": "code",
   "execution_count": 61,
   "id": "fe1f0175",
   "metadata": {},
   "outputs": [],
   "source": [
    "def random_with_grid(train_data, y, size=0.20):\n",
    "    X_train, X_test, y_train, y_test = train_test_split(train_data, y, test_size=size, random_state=42)\n",
    "\n",
    "    param_grid = {'randomforestclassifier__n_estimators': range(20, 100, 2),\n",
    "                  'randomforestclassifier__max_depth': range(1, 14)}\n",
    "\n",
    "    pipe = make_pipeline(RandomForestClassifier())\n",
    "    pipe.fit(X_train, y_train)\n",
    "    grid = GridSearchCV(pipe, param_grid=param_grid, cv=5, n_jobs=-1)\n",
    "    grid.fit(X_train, y_train)\n",
    "    print(f\"best_params: {grid.best_params_}\")\n",
    "\n",
    "    ypred_prob = grid.predict_proba(X_test)\n",
    "\n",
    "    roc_score = roc_auc_score(y_test, ypred_prob[:, 1])\n",
    "    score = grid.score(X_test, y_test)\n",
    "    print(f\"test_score: {score:.2f}\")\n",
    "    print(roc_score)\n",
    "\n"
   ]
  },
  {
   "cell_type": "code",
   "execution_count": 62,
   "id": "c7751a32",
   "metadata": {},
   "outputs": [
    {
     "name": "stdout",
     "output_type": "stream",
     "text": [
      "best_params: {'randomforestclassifier__max_depth': 4, 'randomforestclassifier__n_estimators': 60}\n",
      "test_score: 0.90\n",
      "0.8735898880255601\n"
     ]
    }
   ],
   "source": [
    "random_with_grid(X_train,y)"
   ]
  },
  {
   "cell_type": "code",
   "execution_count": null,
   "id": "753bcf6c",
   "metadata": {},
   "outputs": [],
   "source": [
    "# Final training on a training dataset with the best parameters and\n",
    "# obtaining predict_proba for a test dataset from entries in a csv file"
   ]
  },
  {
   "cell_type": "code",
   "execution_count": 63,
   "id": "e5a72ffc",
   "metadata": {},
   "outputs": [],
   "source": [
    "def random_final(train_data, y, test_data, size=0.20):\n",
    "\n",
    "    test_data = test_data.sort_values('user_id')\n",
    "\n",
    "    X_train, X_test, y_train, y_test = train_test_split(train_data, y, test_size=size, random_state=42)\n",
    "\n",
    "    calibrated_clf = CalibratedClassifierCV(RandomForestClassifier (max_depth=4, n_estimators=60), method='isotonic', cv=5)\n",
    "    calibrated_clf.fit(X_train, y_train)\n",
    "\n",
    "    ypred_prob = calibrated_clf.predict_proba(X_test)\n",
    "\n",
    "    roc_score = roc_auc_score(y_test, ypred_prob[:, 1])\n",
    "    score = calibrated_clf.score(X_test, y_test)\n",
    "    print(f\"Score on valid: {score:.3f}\")\n",
    "    print(f\"Roc_auc_score on valid: {roc_score:.5f}\")\n",
    "\n",
    "    ypred_prob_final = calibrated_clf.predict_proba(test_data)\n",
    "    result = test_data['user_id'].to_frame()\n",
    "    result['is_gone'] = ypred_prob_final[:, 1]\n",
    "    result[['user_id', 'is_gone']].to_csv(f'.\\StepikMLcontest/prediction_{roc_score:.5f}.csv', index=False)\n",
    "    print(f'The results are recorded in a file prediction_{roc_score:.5f}.csv')\n"
   ]
  },
  {
   "cell_type": "code",
   "execution_count": 64,
   "id": "58320819",
   "metadata": {},
   "outputs": [
    {
     "name": "stdout",
     "output_type": "stream",
     "text": [
      "Score on valid: 0.902\n",
      "Roc_auc_score on valid: 0.87343\n",
      "The results are recorded in a file prediction_0.87343.csv\n"
     ]
    }
   ],
   "source": [
    "random_final(X_train, y, X_test)"
   ]
  }
 ],
 "metadata": {
  "kernelspec": {
   "display_name": "Python 3 (ipykernel)",
   "language": "python",
   "name": "python3"
  },
  "language_info": {
   "codemirror_mode": {
    "name": "ipython",
    "version": 3
   },
   "file_extension": ".py",
   "mimetype": "text/x-python",
   "name": "python",
   "nbconvert_exporter": "python",
   "pygments_lexer": "ipython3",
   "version": "3.10.4"
  }
 },
 "nbformat": 4,
 "nbformat_minor": 5
}
